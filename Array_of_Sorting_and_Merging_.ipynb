{
  "nbformat": 4,
  "nbformat_minor": 0,
  "metadata": {
    "colab": {
      "provenance": [],
      "toc_visible": true,
      "authorship_tag": "ABX9TyPOX0pMfqZ1qA4kY4O88tNi",
      "include_colab_link": true
    },
    "kernelspec": {
      "name": "python3",
      "display_name": "Python 3"
    },
    "language_info": {
      "name": "python"
    }
  },
  "cells": [
    {
      "cell_type": "markdown",
      "metadata": {
        "id": "view-in-github",
        "colab_type": "text"
      },
      "source": [
        "<a href=\"https://colab.research.google.com/github/shreya-t-nagappanavar/practice_demo/blob/main/Array_of_Sorting_and_Merging_.ipynb\" target=\"_parent\"><img src=\"https://colab.research.google.com/assets/colab-badge.svg\" alt=\"Open In Colab\"/></a>"
      ]
    },
    {
      "cell_type": "markdown",
      "source": [
        "# Array Sorting"
      ],
      "metadata": {
        "id": "dkUn2x_GSQHk"
      }
    },
    {
      "cell_type": "code",
      "execution_count": 1,
      "metadata": {
        "id": "10Kz7tOJPHzS"
      },
      "outputs": [],
      "source": [
        "import numpy as np"
      ]
    },
    {
      "cell_type": "code",
      "source": [
        "arr = np.array([[7,3,4,5,2],[8,2,5,4,1],[9,8,6,4,3]])"
      ],
      "metadata": {
        "id": "RucHaTg_PmWr"
      },
      "execution_count": 6,
      "outputs": []
    },
    {
      "cell_type": "code",
      "source": [
        "arr"
      ],
      "metadata": {
        "colab": {
          "base_uri": "https://localhost:8080/"
        },
        "id": "pIzucMCaP6F1",
        "outputId": "d6e2d5c0-4b8f-4439-fec8-8288cd0c68df"
      },
      "execution_count": 7,
      "outputs": [
        {
          "output_type": "execute_result",
          "data": {
            "text/plain": [
              "array([[7, 3, 4, 5, 2],\n",
              "       [8, 2, 5, 4, 1],\n",
              "       [9, 8, 6, 4, 3]])"
            ]
          },
          "metadata": {},
          "execution_count": 7
        }
      ]
    },
    {
      "cell_type": "code",
      "source": [
        "np.sort(arr , axis = 1, kind = 'mergesort')"
      ],
      "metadata": {
        "colab": {
          "base_uri": "https://localhost:8080/"
        },
        "id": "zEYZq4KtP6It",
        "outputId": "45550b2d-d1ec-49e2-9fbb-310aebef0bd6"
      },
      "execution_count": 8,
      "outputs": [
        {
          "output_type": "execute_result",
          "data": {
            "text/plain": [
              "array([[2, 3, 4, 5, 7],\n",
              "       [1, 2, 4, 5, 8],\n",
              "       [3, 4, 6, 8, 9]])"
            ]
          },
          "metadata": {},
          "execution_count": 8
        }
      ]
    },
    {
      "cell_type": "code",
      "source": [
        "np.sort(arr , axis = 0, kind = 'mergesort')"
      ],
      "metadata": {
        "colab": {
          "base_uri": "https://localhost:8080/"
        },
        "id": "RGYjMiDWRCLz",
        "outputId": "012597c1-fd9b-4699-d3b5-56e12adf0b9a"
      },
      "execution_count": 9,
      "outputs": [
        {
          "output_type": "execute_result",
          "data": {
            "text/plain": [
              "array([[7, 2, 4, 4, 1],\n",
              "       [8, 3, 5, 4, 2],\n",
              "       [9, 8, 6, 5, 3]])"
            ]
          },
          "metadata": {},
          "execution_count": 9
        }
      ]
    },
    {
      "cell_type": "code",
      "source": [
        "np.sort(arr , axis = 1, kind = 'heapsort')"
      ],
      "metadata": {
        "colab": {
          "base_uri": "https://localhost:8080/"
        },
        "id": "EU2jUh-yRSc5",
        "outputId": "49daba8e-6413-407a-e96a-fed67372b945"
      },
      "execution_count": 10,
      "outputs": [
        {
          "output_type": "execute_result",
          "data": {
            "text/plain": [
              "array([[2, 3, 4, 5, 7],\n",
              "       [1, 2, 4, 5, 8],\n",
              "       [3, 4, 6, 8, 9]])"
            ]
          },
          "metadata": {},
          "execution_count": 10
        }
      ]
    },
    {
      "cell_type": "code",
      "source": [
        "np.sort(arr , axis = 0, kind = 'quicksort')"
      ],
      "metadata": {
        "colab": {
          "base_uri": "https://localhost:8080/"
        },
        "id": "Q86R73GuRSgA",
        "outputId": "69e4e737-79f4-459a-d53b-f67dc5c0bddd"
      },
      "execution_count": 11,
      "outputs": [
        {
          "output_type": "execute_result",
          "data": {
            "text/plain": [
              "array([[7, 2, 4, 4, 1],\n",
              "       [8, 3, 5, 4, 2],\n",
              "       [9, 8, 6, 5, 3]])"
            ]
          },
          "metadata": {},
          "execution_count": 11
        }
      ]
    },
    {
      "cell_type": "code",
      "source": [
        "np.sort(arr , kind = 'quicksort')  # No axis then it will sort in row-wise"
      ],
      "metadata": {
        "colab": {
          "base_uri": "https://localhost:8080/"
        },
        "id": "u5MNR4GFRCOr",
        "outputId": "5e84b575-8a8a-43c0-b68b-dea63dcebbfc"
      },
      "execution_count": 12,
      "outputs": [
        {
          "output_type": "execute_result",
          "data": {
            "text/plain": [
              "array([[2, 3, 4, 5, 7],\n",
              "       [1, 2, 4, 5, 8],\n",
              "       [3, 4, 6, 8, 9]])"
            ]
          },
          "metadata": {},
          "execution_count": 12
        }
      ]
    },
    {
      "cell_type": "code",
      "source": [
        "np.sort(arr , kind = 'mergesort')"
      ],
      "metadata": {
        "colab": {
          "base_uri": "https://localhost:8080/"
        },
        "id": "hqKromb4Ry3_",
        "outputId": "5bcd42ab-9bf1-45f2-c9d5-07fe774082f1"
      },
      "execution_count": 13,
      "outputs": [
        {
          "output_type": "execute_result",
          "data": {
            "text/plain": [
              "array([[2, 3, 4, 5, 7],\n",
              "       [1, 2, 4, 5, 8],\n",
              "       [3, 4, 6, 8, 9]])"
            ]
          },
          "metadata": {},
          "execution_count": 13
        }
      ]
    },
    {
      "cell_type": "markdown",
      "source": [
        "# Array Merging"
      ],
      "metadata": {
        "id": "osP4z5seSLab"
      }
    },
    {
      "cell_type": "code",
      "source": [
        "import numpy as np"
      ],
      "metadata": {
        "id": "nrlPqZ1ESKLO"
      },
      "execution_count": 14,
      "outputs": []
    },
    {
      "cell_type": "code",
      "source": [
        "arr1 = np.array([[1,2,3,4],[5,6,7,8]])\n",
        "arr2 = np.array([[4,5,6,7],[3,4,5,9]])"
      ],
      "metadata": {
        "id": "gZIBU6FrSKOD"
      },
      "execution_count": 15,
      "outputs": []
    },
    {
      "cell_type": "code",
      "source": [
        "arr1"
      ],
      "metadata": {
        "colab": {
          "base_uri": "https://localhost:8080/"
        },
        "id": "sK5y3aBWTDo4",
        "outputId": "af9d4007-c1ba-4fac-f3a1-17aa1e8103de"
      },
      "execution_count": 16,
      "outputs": [
        {
          "output_type": "execute_result",
          "data": {
            "text/plain": [
              "array([[1, 2, 3, 4],\n",
              "       [5, 6, 7, 8]])"
            ]
          },
          "metadata": {},
          "execution_count": 16
        }
      ]
    },
    {
      "cell_type": "code",
      "source": [
        "arr2"
      ],
      "metadata": {
        "colab": {
          "base_uri": "https://localhost:8080/"
        },
        "id": "EhSJCL7ATFv8",
        "outputId": "222f6687-7a07-4c84-c7d9-606eec7228ac"
      },
      "execution_count": 17,
      "outputs": [
        {
          "output_type": "execute_result",
          "data": {
            "text/plain": [
              "array([[4, 5, 6, 7],\n",
              "       [3, 4, 5, 9]])"
            ]
          },
          "metadata": {},
          "execution_count": 17
        }
      ]
    },
    {
      "cell_type": "code",
      "source": [
        "np.vstack((arr1 , arr2)) #Concateninating"
      ],
      "metadata": {
        "colab": {
          "base_uri": "https://localhost:8080/"
        },
        "id": "Fsksf4VuTDrx",
        "outputId": "989d5485-d895-4ae9-9e82-c32de6da5bdb"
      },
      "execution_count": 18,
      "outputs": [
        {
          "output_type": "execute_result",
          "data": {
            "text/plain": [
              "array([[1, 2, 3, 4],\n",
              "       [5, 6, 7, 8],\n",
              "       [4, 5, 6, 7],\n",
              "       [3, 4, 5, 9]])"
            ]
          },
          "metadata": {},
          "execution_count": 18
        }
      ]
    },
    {
      "cell_type": "code",
      "source": [
        "np.vstack((arr2 , arr1)) #v for verticle h for horizontal"
      ],
      "metadata": {
        "colab": {
          "base_uri": "https://localhost:8080/"
        },
        "id": "hlqfXWgvTrfY",
        "outputId": "5aee3cb8-c220-4b5e-ef90-17f821e3b920"
      },
      "execution_count": 19,
      "outputs": [
        {
          "output_type": "execute_result",
          "data": {
            "text/plain": [
              "array([[4, 5, 6, 7],\n",
              "       [3, 4, 5, 9],\n",
              "       [1, 2, 3, 4],\n",
              "       [5, 6, 7, 8]])"
            ]
          },
          "metadata": {},
          "execution_count": 19
        }
      ]
    },
    {
      "cell_type": "code",
      "source": [
        "np.hstack((arr1 , arr2))"
      ],
      "metadata": {
        "colab": {
          "base_uri": "https://localhost:8080/"
        },
        "id": "Ia4gBTf-Uf5J",
        "outputId": "033d18ad-36ae-4601-cd32-99eec3e3d40c"
      },
      "execution_count": 20,
      "outputs": [
        {
          "output_type": "execute_result",
          "data": {
            "text/plain": [
              "array([[1, 2, 3, 4, 4, 5, 6, 7],\n",
              "       [5, 6, 7, 8, 3, 4, 5, 9]])"
            ]
          },
          "metadata": {},
          "execution_count": 20
        }
      ]
    },
    {
      "cell_type": "code",
      "source": [
        "np.hstack((arr1 , arr1))"
      ],
      "metadata": {
        "colab": {
          "base_uri": "https://localhost:8080/"
        },
        "id": "HxGlBiDhUf8I",
        "outputId": "80f0aecc-a5d6-4e56-9f0e-a15e8e837e8e"
      },
      "execution_count": 22,
      "outputs": [
        {
          "output_type": "execute_result",
          "data": {
            "text/plain": [
              "array([[1, 2, 3, 4, 1, 2, 3, 4],\n",
              "       [5, 6, 7, 8, 5, 6, 7, 8]])"
            ]
          },
          "metadata": {},
          "execution_count": 22
        }
      ]
    },
    {
      "cell_type": "code",
      "source": [
        "np.concatenate((arr1 , arr2) ,axis = 0)"
      ],
      "metadata": {
        "colab": {
          "base_uri": "https://localhost:8080/"
        },
        "id": "ueZrFuxbTriQ",
        "outputId": "417b6da1-372e-40fb-8113-fe92e9a4cec3"
      },
      "execution_count": 23,
      "outputs": [
        {
          "output_type": "execute_result",
          "data": {
            "text/plain": [
              "array([[1, 2, 3, 4],\n",
              "       [5, 6, 7, 8],\n",
              "       [4, 5, 6, 7],\n",
              "       [3, 4, 5, 9]])"
            ]
          },
          "metadata": {},
          "execution_count": 23
        }
      ]
    },
    {
      "cell_type": "code",
      "source": [
        "np.concatenate((arr1 , arr2) ,axis = 1)"
      ],
      "metadata": {
        "colab": {
          "base_uri": "https://localhost:8080/"
        },
        "id": "pl7FdZQIVwBJ",
        "outputId": "92c3f4e5-02b4-40ed-9cab-7babf2fcbd64"
      },
      "execution_count": 24,
      "outputs": [
        {
          "output_type": "execute_result",
          "data": {
            "text/plain": [
              "array([[1, 2, 3, 4, 4, 5, 6, 7],\n",
              "       [5, 6, 7, 8, 3, 4, 5, 9]])"
            ]
          },
          "metadata": {},
          "execution_count": 24
        }
      ]
    },
    {
      "cell_type": "code",
      "source": [
        "arr = np.array([[1, 2, 3, 4],\n",
        "       [5, 6, 7, 8],\n",
        "       [4, 5, 6, 7],\n",
        "       [3, 4, 5, 9]])"
      ],
      "metadata": {
        "id": "yGVE553uVwDL"
      },
      "execution_count": 26,
      "outputs": []
    },
    {
      "cell_type": "code",
      "source": [
        "arr"
      ],
      "metadata": {
        "colab": {
          "base_uri": "https://localhost:8080/"
        },
        "id": "uIxeGoQ3VwF-",
        "outputId": "cf24c299-b740-4b81-f7b9-049fc5916c94"
      },
      "execution_count": 27,
      "outputs": [
        {
          "output_type": "execute_result",
          "data": {
            "text/plain": [
              "array([[1, 2, 3, 4],\n",
              "       [5, 6, 7, 8],\n",
              "       [4, 5, 6, 7],\n",
              "       [3, 4, 5, 9]])"
            ]
          },
          "metadata": {},
          "execution_count": 27
        }
      ]
    },
    {
      "cell_type": "code",
      "source": [
        "np.hsplit(arr,2)"
      ],
      "metadata": {
        "colab": {
          "base_uri": "https://localhost:8080/"
        },
        "id": "m45pBw6yVwI_",
        "outputId": "8a350a90-7e80-41da-cf67-f458d7e3a1f8"
      },
      "execution_count": 28,
      "outputs": [
        {
          "output_type": "execute_result",
          "data": {
            "text/plain": [
              "[array([[1, 2],\n",
              "        [5, 6],\n",
              "        [4, 5],\n",
              "        [3, 4]]),\n",
              " array([[3, 4],\n",
              "        [7, 8],\n",
              "        [6, 7],\n",
              "        [5, 9]])]"
            ]
          },
          "metadata": {},
          "execution_count": 28
        }
      ]
    },
    {
      "cell_type": "code",
      "source": [
        "np.vsplit(arr,2)"
      ],
      "metadata": {
        "colab": {
          "base_uri": "https://localhost:8080/"
        },
        "id": "dK_l3oHtWzzZ",
        "outputId": "0b987293-c2dc-41a6-b753-7d8da8d5b279"
      },
      "execution_count": 29,
      "outputs": [
        {
          "output_type": "execute_result",
          "data": {
            "text/plain": [
              "[array([[1, 2, 3, 4],\n",
              "        [5, 6, 7, 8]]),\n",
              " array([[4, 5, 6, 7],\n",
              "        [3, 4, 5, 9]])]"
            ]
          },
          "metadata": {},
          "execution_count": 29
        }
      ]
    },
    {
      "cell_type": "code",
      "source": [
        "np.hsplit(arr,4)"
      ],
      "metadata": {
        "colab": {
          "base_uri": "https://localhost:8080/"
        },
        "id": "8EXoD5B6Wz2O",
        "outputId": "732ed249-2062-4f46-dcfd-75be75e59010"
      },
      "execution_count": 31,
      "outputs": [
        {
          "output_type": "execute_result",
          "data": {
            "text/plain": [
              "[array([[1],\n",
              "        [5],\n",
              "        [4],\n",
              "        [3]]),\n",
              " array([[2],\n",
              "        [6],\n",
              "        [5],\n",
              "        [4]]),\n",
              " array([[3],\n",
              "        [7],\n",
              "        [6],\n",
              "        [5]]),\n",
              " array([[4],\n",
              "        [8],\n",
              "        [7],\n",
              "        [9]])]"
            ]
          },
          "metadata": {},
          "execution_count": 31
        }
      ]
    }
  ]
}