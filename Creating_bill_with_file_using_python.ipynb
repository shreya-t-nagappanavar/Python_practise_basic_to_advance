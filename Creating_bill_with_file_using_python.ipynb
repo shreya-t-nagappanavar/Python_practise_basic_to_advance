{
  "nbformat": 4,
  "nbformat_minor": 0,
  "metadata": {
    "colab": {
      "provenance": [],
      "authorship_tag": "ABX9TyMyF3+P4iuRE2JIDs6bXm6w",
      "include_colab_link": true
    },
    "kernelspec": {
      "name": "python3",
      "display_name": "Python 3"
    },
    "language_info": {
      "name": "python"
    }
  },
  "cells": [
    {
      "cell_type": "markdown",
      "metadata": {
        "id": "view-in-github",
        "colab_type": "text"
      },
      "source": [
        "<a href=\"https://colab.research.google.com/github/shreya-t-nagappanavar/practice_demo/blob/main/Creating_bill_with_file_using_python.ipynb\" target=\"_parent\"><img src=\"https://colab.research.google.com/assets/colab-badge.svg\" alt=\"Open In Colab\"/></a>"
      ]
    },
    {
      "cell_type": "markdown",
      "source": [
        "# New text file created"
      ],
      "metadata": {
        "id": "o2G3ilaRuPqE"
      }
    },
    {
      "cell_type": "code",
      "execution_count": 6,
      "metadata": {
        "id": "lXUMhhuinCXw"
      },
      "outputs": [],
      "source": [
        "with open('/content/sample_data/data','r') as f:\n",
        "     products = f.read()"
      ]
    },
    {
      "cell_type": "code",
      "source": [
        "print(products)"
      ],
      "metadata": {
        "colab": {
          "base_uri": "https://localhost:8080/"
        },
        "id": "HxAkuyx2pToT",
        "outputId": "54db58ba-259b-4481-96cc-6f80983b5943"
      },
      "execution_count": 19,
      "outputs": [
        {
          "output_type": "stream",
          "name": "stdout",
          "text": [
            "['1,5 star,5,100', '2,milk bar,10,200', '3,candy,20,100', '4,cake,50,45', '5,maggie,20,50']\n"
          ]
        }
      ]
    },
    {
      "cell_type": "code",
      "source": [
        "products\n",
        ""
      ],
      "metadata": {
        "colab": {
          "base_uri": "https://localhost:8080/",
          "height": 36
        },
        "id": "w9KD_LxBpTx6",
        "outputId": "128328f5-5a66-4975-b461-31173e902ec9"
      },
      "execution_count": 12,
      "outputs": [
        {
          "output_type": "execute_result",
          "data": {
            "text/plain": [
              "'1,5 star,5,100\\n2,milk bar,10,200\\n3,candy,20,100\\n4,cake,50,45\\n5,maggie,20,50'"
            ],
            "application/vnd.google.colaboratory.intrinsic+json": {
              "type": "string"
            }
          },
          "metadata": {},
          "execution_count": 12
        }
      ]
    },
    {
      "cell_type": "code",
      "source": [
        "print(products)"
      ],
      "metadata": {
        "colab": {
          "base_uri": "https://localhost:8080/"
        },
        "id": "89KBXupJqgS5",
        "outputId": "873a7cf4-27e9-4d94-857d-747e6e62324f"
      },
      "execution_count": 16,
      "outputs": [
        {
          "output_type": "stream",
          "name": "stdout",
          "text": [
            "['1,5 star,5,100', '2,milk bar,10,200', '3,candy,20,100', '4,cake,50,45', '5,maggie,20,50']\n"
          ]
        }
      ]
    },
    {
      "cell_type": "markdown",
      "source": [
        "# Display product details with ID"
      ],
      "metadata": {
        "id": "-GJZZdXtuAbA"
      }
    },
    {
      "cell_type": "code",
      "source": [
        "ui_prod_id = input(\"Enter product ID:\")\n",
        "for product in products:\n",
        "  if (product[0]==ui_prod_id):\n",
        "    print(product)\n"
      ],
      "metadata": {
        "colab": {
          "base_uri": "https://localhost:8080/"
        },
        "id": "wcnICYXOrJht",
        "outputId": "1334e86f-1291-4373-ee64-35d06614b699"
      },
      "execution_count": 20,
      "outputs": [
        {
          "output_type": "stream",
          "name": "stdout",
          "text": [
            "Enter product ID:1\n",
            "1,5 star,5,100\n"
          ]
        }
      ]
    },
    {
      "cell_type": "markdown",
      "source": [
        "#Created small bill"
      ],
      "metadata": {
        "id": "eybW3j-8t6RZ"
      }
    },
    {
      "cell_type": "code",
      "source": [
        "ui_prod_id = input(\"Enter product ID:\")\n",
        "ui_prod_qn = input(\"Enter product Qauntity:\")\n",
        "for product in products:\n",
        "  product_details = product.split(',')\n",
        "  if (product_details[0]==ui_prod_id):\n",
        "      print(\"----------------------------------------------\")\n",
        "      print(\"Product Name:\",product_details[1])\n",
        "      print(\"Product Price:\",product_details[2])\n",
        "      print(\"Product Quantity:\",ui_prod_qn)\n",
        "      print(\"----------------------------------------------\")\n",
        "      print(\"Total Amount:\",int(ui_prod_qn) * int(product_details[2]))\n",
        "      print(\"Thank you visit Again\")\n"
      ],
      "metadata": {
        "colab": {
          "base_uri": "https://localhost:8080/"
        },
        "id": "54GWaZiKrJkz",
        "outputId": "1aa581c0-b267-48f4-d963-b286121d2f57"
      },
      "execution_count": 25,
      "outputs": [
        {
          "output_type": "stream",
          "name": "stdout",
          "text": [
            "Enter product ID:1\n",
            "Enter product Qauntity:3\n",
            "----------------------------------------------\n",
            "Product Name: 5 star\n",
            "Product Price: 5\n",
            "Product Quantity: 3\n",
            "----------------------------------------------\n",
            "Total Amount: 15\n",
            "Thank you visit Again\n"
          ]
        }
      ]
    },
    {
      "cell_type": "markdown",
      "source": [
        "# Updating the quantity data in file"
      ],
      "metadata": {
        "id": "F5JfC4T6ucdd"
      }
    },
    {
      "cell_type": "code",
      "source": [
        "ui_prod_id = input(\"Enter product ID:\")\n",
        "ui_prod_qn = input(\"Enter product Qauntity:\")\n",
        "updated_product_lst = []\n",
        "for product in products:\n",
        "  product_details = product.split(',')\n",
        "  if (product_details[0]==ui_prod_id):\n",
        "      print(\"----------------------------------------------\")\n",
        "      print(\"Product Name:\",product_details[1])\n",
        "      print(\"Product Price:\",product_details[2])\n",
        "      print(\"Product Quantity:\",ui_prod_qn)\n",
        "      print(\"----------------------------------------------\")\n",
        "      print(\"Total Amount:\",int(ui_prod_qn) * int(product_details[2]))\n",
        "      print(\"Thank you visit Again\")\n",
        "      product_details[3] = str(int(product_details[3]) - int(ui_prod_qn))\n",
        "      updated_product_lst.append(product_details)\n",
        "lst = []\n",
        "for i in updated_product_lst:\n",
        "    prod = i[0]+','+i[1]+','+i[2]+','+i[3]+'\\n'\n",
        "    lst.append(prod)\n",
        "lst[-1] = lst[-1][:-1]\n",
        "\n",
        "with open(\"/content/sample_data/data\",'w') as f:\n",
        "     for i in lst:\n",
        "        f.write(i)\n",
        "\n"
      ],
      "metadata": {
        "colab": {
          "base_uri": "https://localhost:8080/"
        },
        "id": "U94o2j85rJsx",
        "outputId": "ad0ca025-34a2-47ac-a0bc-6a593e7868c9"
      },
      "execution_count": 29,
      "outputs": [
        {
          "output_type": "stream",
          "name": "stdout",
          "text": [
            "Enter product ID:2\n",
            "Enter product Qauntity:5\n",
            "----------------------------------------------\n",
            "Product Name: milk bar\n",
            "Product Price: 10\n",
            "Product Quantity: 5\n",
            "----------------------------------------------\n",
            "Total Amount: 50\n",
            "Thank you visit Again\n"
          ]
        }
      ]
    },
    {
      "cell_type": "markdown",
      "source": [
        "# Adding functionalities to the program"
      ],
      "metadata": {
        "id": "l_QOHtPx1b8s"
      }
    },
    {
      "cell_type": "code",
      "source": [
        "ui_prod_id = input(\"Enter product ID:\")\n",
        "ui_prod_qn = input(\"Enter product Qauntity:\")\n",
        "updated_product_lst = []\n",
        "for product in products:\n",
        "  product_details = product.split(',')\n",
        "  if (product_details[0]==ui_prod_id):\n",
        "      if (int(ui_prod_qn) <= int(product_details[3])):\n",
        "        print(\"----------------------------------------------\")\n",
        "        print(\"Product Name:\",product_details[1])\n",
        "        print(\"Product Price:\",product_details[2])\n",
        "        print(\"Product Quantity:\",ui_prod_qn)\n",
        "        print(\"----------------------------------------------\")\n",
        "        print(\"Total Amount:\",int(ui_prod_qn) * int(product_details[2]))\n",
        "        print(\"Thank you visit Again\")\n",
        "        product_details[3] = str(int(product_details[3]) - int(ui_prod_qn))\n",
        "        updated_product_lst.append(product_details)\n",
        "      else:\n",
        "        print(\"Sorry,we have less Quantity\")\n",
        "        print(\"we have\"+\" \"+product_details[3] +\" \"+\"if u want please click yes\")\n",
        "        ch = input(\"press y/n\")\n",
        "        if(ch == 'y' or ch == 'Y'):\n",
        "          print(\"----------------------------------------------\")\n",
        "          print(\"Product Name:\",product_details[1])\n",
        "          print(\"Product Price:\",product_details[2])\n",
        "          print(\"Product Quantity:\",product_details[3])\n",
        "          print(\"----------------------------------------------\")\n",
        "          print(\"Total Amount:\",int(ui_prod_qn) * int(product_details[2]))\n",
        "        else:\n",
        "          print(\"Thanks visit again\")\n",
        "lst = []\n",
        "for i in updated_product_lst:\n",
        "    prod = i[0]+','+i[1]+','+i[2]+','+i[3]+'\\n'\n",
        "    lst.append(prod)\n",
        "lst[-1] = lst[-1][:-1]\n",
        "\n",
        "with open(\"/content/sample_data/data\",'w') as f:\n",
        "     for i in lst:\n",
        "        f.write(i)"
      ],
      "metadata": {
        "colab": {
          "base_uri": "https://localhost:8080/"
        },
        "id": "bg20t9fs0x7H",
        "outputId": "5b992e34-c879-4188-81ae-ea9fbaf49fa4"
      },
      "execution_count": 31,
      "outputs": [
        {
          "output_type": "stream",
          "name": "stdout",
          "text": [
            "Enter product ID:1\n",
            "Enter product Qauntity:2\n",
            "----------------------------------------------\n",
            "Product Name: 5 star\n",
            "Product Price: 5\n",
            "Product Quantity: 2\n",
            "----------------------------------------------\n",
            "Total Amount: 10\n",
            "Thank you visit Again\n"
          ]
        }
      ]
    },
    {
      "cell_type": "markdown",
      "source": [
        "# Adding functionalities for less quantity"
      ],
      "metadata": {
        "id": "X0Si9bwW7QVG"
      }
    },
    {
      "cell_type": "code",
      "source": [
        "print(\"-------------------BILLING-----------------------\")\n",
        "ui_prod_id = input(\"Enter product ID:\")\n",
        "ui_prod_qn = input(\"Enter product Qauntity:\")\n",
        "updated_product_lst = []\n",
        "for product in products:\n",
        "  product_details = product.split(',')\n",
        "  if (product_details[0]==ui_prod_id):\n",
        "      if (int(ui_prod_qn) <= int(product_details[3])):\n",
        "        print(\"----------------------------------------------\")\n",
        "        print(\"Product Name:\"+\"           \",product_details[1])\n",
        "        print(\"Product Price:\"+\"          \",product_details[2])\n",
        "        print(\"Product Quantity:\"+\"       \",ui_prod_qn)\n",
        "        print(\"----------------------------------------------\")\n",
        "        print(\"Total Amount:\",int(ui_prod_qn) * int(product_details[2]))\n",
        "        print(\"Thank you visit Again\")\n",
        "        product_details[3] = str(int(product_details[3]) - int(ui_prod_qn))\n",
        "        updated_product_lst.append(product_details)\n",
        "      else:\n",
        "        print(\"Sorry,we have less Quantity\")\n",
        "        print(\"we have\"+\" \"+product_details[3] +\" \"+\"if u want please click yes\")\n",
        "        ch = input(\"press y/n:\")\n",
        "        if(ch == 'y' or ch == 'Y' or ch == 'yes' or ch == 'yes'):\n",
        "          print(\"----------------------------------------------\")\n",
        "          print(\"Product Name:\"+\"           \",product_details[1])\n",
        "          print(\"Product Price:\"+\"          \",product_details[2])\n",
        "          print(\"Product Quantity:\"+\"       \",product_details[3])\n",
        "          print(\"----------------------------------------------\")\n",
        "          print(\"Total Amount:\",int(product_details[3]) * int(product_details[2]))\n",
        "          print(\"Thanks visit again\")\n",
        "        else:\n",
        "          print(\"Thanks visit again\")\n",
        "lst = []\n",
        "for i in updated_product_lst:\n",
        "    prod = i[0]+','+i[1]+','+i[2]+','+i[3]+'\\n'\n",
        "    lst.append(prod)\n",
        "\n",
        "\n",
        "with open(\"/content/sample_data/data\",'w') as f:\n",
        "     for i in lst:\n",
        "        f.write(i)"
      ],
      "metadata": {
        "colab": {
          "base_uri": "https://localhost:8080/"
        },
        "id": "sF9yvitK5ezh",
        "outputId": "3b47646a-dad5-4b45-aa86-b140ae7219c3"
      },
      "execution_count": 42,
      "outputs": [
        {
          "output_type": "stream",
          "name": "stdout",
          "text": [
            "-------------------BILLING-----------------------\n",
            "Enter product ID:4\n",
            "Enter product Qauntity:50\n",
            "Sorry,we have less Quantity\n",
            "we have 45 if u want please click yes\n",
            "press y/n:yes\n",
            "----------------------------------------------\n",
            "Product Name:            cake\n",
            "Product Price:           50\n",
            "Product Quantity:        45\n",
            "----------------------------------------------\n",
            "Total Amount: 2250\n",
            "Thanks visit again\n"
          ]
        }
      ]
    }
  ]
}