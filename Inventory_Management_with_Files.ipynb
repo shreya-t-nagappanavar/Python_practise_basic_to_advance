{
  "nbformat": 4,
  "nbformat_minor": 0,
  "metadata": {
    "colab": {
      "provenance": [],
      "authorship_tag": "ABX9TyMhRgo86jf6ceziGSl7PIlV",
      "include_colab_link": true
    },
    "kernelspec": {
      "name": "python3",
      "display_name": "Python 3"
    },
    "language_info": {
      "name": "python"
    }
  },
  "cells": [
    {
      "cell_type": "markdown",
      "metadata": {
        "id": "view-in-github",
        "colab_type": "text"
      },
      "source": [
        "<a href=\"https://colab.research.google.com/github/shreya-t-nagappanavar/practice_demo/blob/main/Inventory_Management_with_Files.ipynb\" target=\"_parent\"><img src=\"https://colab.research.google.com/assets/colab-badge.svg\" alt=\"Open In Colab\"/></a>"
      ]
    },
    {
      "cell_type": "code",
      "execution_count": 2,
      "metadata": {
        "colab": {
          "base_uri": "https://localhost:8080/"
        },
        "id": "99_TXTM6NLiq",
        "outputId": "b0352d04-0401-4db8-ad48-4ece9ccf0546"
      },
      "outputs": [
        {
          "output_type": "execute_result",
          "data": {
            "text/plain": [
              "9"
            ]
          },
          "metadata": {},
          "execution_count": 2
        }
      ],
      "source": [
        "5+4"
      ]
    },
    {
      "cell_type": "code",
      "source": [
        "from google.colab import drive"
      ],
      "metadata": {
        "id": "W9sqy27sP7rO"
      },
      "execution_count": 3,
      "outputs": []
    },
    {
      "cell_type": "code",
      "source": [
        "import pandas as pd"
      ],
      "metadata": {
        "id": "xwiGs8vgP7uI"
      },
      "execution_count": 4,
      "outputs": []
    },
    {
      "cell_type": "markdown",
      "source": [
        "# Creating Text file"
      ],
      "metadata": {
        "id": "T-V61CpLXbSX"
      }
    },
    {
      "cell_type": "code",
      "source": [
        "with open('/content/sample_data/newdata','r') as f:\n",
        "         txt = f.read()"
      ],
      "metadata": {
        "id": "BkZhBu8STzF1"
      },
      "execution_count": 14,
      "outputs": []
    },
    {
      "cell_type": "markdown",
      "source": [
        "# Product details added to the txt file"
      ],
      "metadata": {
        "id": "xyDCeR8iXt7s"
      }
    },
    {
      "cell_type": "code",
      "source": [
        "print(txt)"
      ],
      "metadata": {
        "colab": {
          "base_uri": "https://localhost:8080/"
        },
        "id": "OQ69LPf2Vtjr",
        "outputId": "bcd6d87b-9342-426b-cff6-8e5510474b47"
      },
      "execution_count": 15,
      "outputs": [
        {
          "output_type": "stream",
          "name": "stdout",
          "text": [
            "1,5 star,5,100\n",
            "2,milk Bar,5,200\n",
            "3,cake,100,10\n",
            "4,candy,10,400\n"
          ]
        }
      ]
    },
    {
      "cell_type": "code",
      "source": [
        "txt"
      ],
      "metadata": {
        "colab": {
          "base_uri": "https://localhost:8080/",
          "height": 36
        },
        "id": "_xU2MexCV4lE",
        "outputId": "adba5ff8-7700-4a76-8793-128e33209197"
      },
      "execution_count": 16,
      "outputs": [
        {
          "output_type": "execute_result",
          "data": {
            "text/plain": [
              "'1,5 star,5,100\\n2,milk Bar,5,200\\n3,cake,100,10\\n4,candy,10,400'"
            ],
            "application/vnd.google.colaboratory.intrinsic+json": {
              "type": "string"
            }
          },
          "metadata": {},
          "execution_count": 16
        }
      ]
    },
    {
      "cell_type": "code",
      "source": [
        "prod_details = txt.split('\\n')"
      ],
      "metadata": {
        "id": "6C43MmdwV5Os"
      },
      "execution_count": 48,
      "outputs": []
    },
    {
      "cell_type": "code",
      "source": [
        "prod_details"
      ],
      "metadata": {
        "colab": {
          "base_uri": "https://localhost:8080/"
        },
        "id": "FppH9hw7jUYX",
        "outputId": "3b9e48c7-63c9-4f2d-ab45-13af57313360"
      },
      "execution_count": 49,
      "outputs": [
        {
          "output_type": "execute_result",
          "data": {
            "text/plain": [
              "['1,5 star,5,100', '2,milk Bar,5,200', '3,cake,100,10', '4,candy,10,400']"
            ]
          },
          "metadata": {},
          "execution_count": 49
        }
      ]
    },
    {
      "cell_type": "code",
      "source": [
        "for products in prod_details:\n",
        "    data = products.split(',')\n",
        "    print(data)"
      ],
      "metadata": {
        "colab": {
          "base_uri": "https://localhost:8080/"
        },
        "id": "cVVQ4VpJjYxq",
        "outputId": "90e7bdc4-95da-4c46-bab3-5697677f2373"
      },
      "execution_count": 51,
      "outputs": [
        {
          "output_type": "stream",
          "name": "stdout",
          "text": [
            "['1', '5 star', '5', '100']\n",
            "['2', 'milk Bar', '5', '200']\n",
            "['3', 'cake', '100', '10']\n",
            "['4', 'candy', '10', '400']\n"
          ]
        }
      ]
    },
    {
      "cell_type": "markdown",
      "source": [
        "#Display product by there ID"
      ],
      "metadata": {
        "id": "xmao_qEmZawW"
      }
    },
    {
      "cell_type": "code",
      "source": [
        "ur_prod_id = input(\"Enter product Id:\")\n",
        "for product in prod_details:\n",
        "    if(product.split(',')[0] == ur_prod_id):\n",
        "        print(product)"
      ],
      "metadata": {
        "colab": {
          "base_uri": "https://localhost:8080/"
        },
        "id": "nqgINKIfXOHK",
        "outputId": "dbb46997-a954-45dd-d29d-0872d868a832"
      },
      "execution_count": 52,
      "outputs": [
        {
          "output_type": "stream",
          "name": "stdout",
          "text": [
            "Enter product Id:1\n",
            "1,5 star,5,100\n"
          ]
        }
      ]
    }
  ]
}