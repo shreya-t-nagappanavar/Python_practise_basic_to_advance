{
  "nbformat": 4,
  "nbformat_minor": 0,
  "metadata": {
    "colab": {
      "provenance": [],
      "authorship_tag": "ABX9TyMAGX3ClIPKspLNQVI3Yujv",
      "include_colab_link": true
    },
    "kernelspec": {
      "name": "python3",
      "display_name": "Python 3"
    },
    "language_info": {
      "name": "python"
    }
  },
  "cells": [
    {
      "cell_type": "markdown",
      "metadata": {
        "id": "view-in-github",
        "colab_type": "text"
      },
      "source": [
        "<a href=\"https://colab.research.google.com/github/shreya-t-nagappanavar/practice_demo/blob/main/Inventory_Management_with_JSON_and_creating_bill.ipynb\" target=\"_parent\"><img src=\"https://colab.research.google.com/assets/colab-badge.svg\" alt=\"Open In Colab\"/></a>"
      ]
    },
    {
      "cell_type": "code",
      "execution_count": 1,
      "metadata": {
        "id": "Wsffe9BG5Ool"
      },
      "outputs": [],
      "source": [
        "record = {101 : \"Milkly bar\", 102 : \"Cake\", 103 : \"Candly\", 104 : \"Popcorn\", 105 : \"blueberry\"}"
      ]
    },
    {
      "cell_type": "code",
      "source": [
        "print(record)"
      ],
      "metadata": {
        "colab": {
          "base_uri": "https://localhost:8080/"
        },
        "id": "A8wXYe1B5UwW",
        "outputId": "fec94f6c-fd95-49ae-e012-05da0d55ce58"
      },
      "execution_count": 3,
      "outputs": [
        {
          "output_type": "stream",
          "name": "stdout",
          "text": [
            "{101: 'Milkly bar', 102: 'Cake', 103: 'Candly', 104: 'Popcorn', 105: 'blueberry'}\n"
          ]
        }
      ]
    },
    {
      "cell_type": "code",
      "source": [
        "record"
      ],
      "metadata": {
        "colab": {
          "base_uri": "https://localhost:8080/"
        },
        "id": "Yyq_KjpY63ZO",
        "outputId": "2976e825-3e6f-4036-cb82-e91116a75836"
      },
      "execution_count": 4,
      "outputs": [
        {
          "output_type": "execute_result",
          "data": {
            "text/plain": [
              "{101: 'Milkly bar',\n",
              " 102: 'Cake',\n",
              " 103: 'Candly',\n",
              " 104: 'Popcorn',\n",
              " 105: 'blueberry'}"
            ]
          },
          "metadata": {},
          "execution_count": 4
        }
      ]
    },
    {
      "cell_type": "code",
      "source": [
        "record[103]"
      ],
      "metadata": {
        "colab": {
          "base_uri": "https://localhost:8080/",
          "height": 36
        },
        "id": "y9ojbKZE67nL",
        "outputId": "71195f51-3d1e-405a-9796-7c18bd273c64"
      },
      "execution_count": 5,
      "outputs": [
        {
          "output_type": "execute_result",
          "data": {
            "text/plain": [
              "'Candly'"
            ],
            "application/vnd.google.colaboratory.intrinsic+json": {
              "type": "string"
            }
          },
          "metadata": {},
          "execution_count": 5
        }
      ]
    },
    {
      "cell_type": "code",
      "source": [
        "record = {101: {'Name' : 'Milkly bar' , 'Price' : 10  , 'Qn' : 200},\n",
        "          102: {'Name' : 'Cake'       , 'Price' : 100 , 'Qn' : 20},\n",
        "          103: {'Name' : 'Candly'     , 'Price' : 15  , 'Qn' : 400},\n",
        "          104: {'Name' : 'Popcorn'    , 'Price' : 50  , 'Qn' : 100},\n",
        "          105: {'Name' : 'blueberry'  , 'Price' : 60  , 'Qn' : 20}}"
      ],
      "metadata": {
        "id": "7Bf5JYM26726"
      },
      "execution_count": 6,
      "outputs": []
    },
    {
      "cell_type": "code",
      "source": [
        "record[103]['Price']"
      ],
      "metadata": {
        "colab": {
          "base_uri": "https://localhost:8080/"
        },
        "id": "sTLrqX5p-EaI",
        "outputId": "9bdafa09-ff67-4365-ab9a-af57a24384c1"
      },
      "execution_count": 7,
      "outputs": [
        {
          "output_type": "execute_result",
          "data": {
            "text/plain": [
              "15"
            ]
          },
          "metadata": {},
          "execution_count": 7
        }
      ]
    },
    {
      "cell_type": "code",
      "source": [
        "record"
      ],
      "metadata": {
        "colab": {
          "base_uri": "https://localhost:8080/"
        },
        "id": "oGLaokU5-Kzd",
        "outputId": "d6450fd3-e54f-41f5-bc74-afb8efd07d1c"
      },
      "execution_count": 8,
      "outputs": [
        {
          "output_type": "execute_result",
          "data": {
            "text/plain": [
              "{101: {'Name': 'Milkly bar', 'Price': 10, 'Qn': 200},\n",
              " 102: {'Name': 'Cake', 'Price': 100, 'Qn': 20},\n",
              " 103: {'Name': 'Candly', 'Price': 15, 'Qn': 400},\n",
              " 104: {'Name': 'Popcorn', 'Price': 50, 'Qn': 100},\n",
              " 105: {'Name': 'blueberry', 'Price': 60, 'Qn': 20}}"
            ]
          },
          "metadata": {},
          "execution_count": 8
        }
      ]
    },
    {
      "cell_type": "code",
      "source": [
        "print(record[105]['Name'])\n",
        "print(record[105]['Price'])\n",
        "print(record[105]['Qn'])\n"
      ],
      "metadata": {
        "colab": {
          "base_uri": "https://localhost:8080/"
        },
        "id": "WWdWr6Yo-K2l",
        "outputId": "7c010e64-2ab6-4ab7-8a15-085c53c2ec39"
      },
      "execution_count": 9,
      "outputs": [
        {
          "output_type": "stream",
          "name": "stdout",
          "text": [
            "blueberry\n",
            "60\n",
            "20\n"
          ]
        }
      ]
    },
    {
      "cell_type": "code",
      "source": [
        "record"
      ],
      "metadata": {
        "colab": {
          "base_uri": "https://localhost:8080/"
        },
        "id": "SV5TjSuhsNr8",
        "outputId": "601ba55d-5c99-4202-dd26-823a27f915c6"
      },
      "execution_count": 10,
      "outputs": [
        {
          "output_type": "execute_result",
          "data": {
            "text/plain": [
              "{101: {'Name': 'Milkly bar', 'Price': 10, 'Qn': 200},\n",
              " 102: {'Name': 'Cake', 'Price': 100, 'Qn': 20},\n",
              " 103: {'Name': 'Candly', 'Price': 15, 'Qn': 400},\n",
              " 104: {'Name': 'Popcorn', 'Price': 50, 'Qn': 100},\n",
              " 105: {'Name': 'blueberry', 'Price': 60, 'Qn': 20}}"
            ]
          },
          "metadata": {},
          "execution_count": 10
        }
      ]
    },
    {
      "cell_type": "code",
      "source": [
        "for key in record.keys():\n",
        "  print(record[key])"
      ],
      "metadata": {
        "colab": {
          "base_uri": "https://localhost:8080/"
        },
        "id": "tM_PvBnvrAyE",
        "outputId": "446f9ff9-68ec-4577-b5cd-2ed15915ec70"
      },
      "execution_count": 11,
      "outputs": [
        {
          "output_type": "stream",
          "name": "stdout",
          "text": [
            "{'Name': 'Milkly bar', 'Price': 10, 'Qn': 200}\n",
            "{'Name': 'Cake', 'Price': 100, 'Qn': 20}\n",
            "{'Name': 'Candly', 'Price': 15, 'Qn': 400}\n",
            "{'Name': 'Popcorn', 'Price': 50, 'Qn': 100}\n",
            "{'Name': 'blueberry', 'Price': 60, 'Qn': 20}\n"
          ]
        }
      ]
    },
    {
      "cell_type": "code",
      "source": [
        "for key in record.keys():\n",
        "  print(key,record[key][\"Name\"],record[key][\"Price\"],record[key][\"Qn\"])"
      ],
      "metadata": {
        "colab": {
          "base_uri": "https://localhost:8080/"
        },
        "id": "dAOcdU2rsbN7",
        "outputId": "77ef5ab5-7fde-455a-8958-5c60efed5f54"
      },
      "execution_count": 13,
      "outputs": [
        {
          "output_type": "stream",
          "name": "stdout",
          "text": [
            "101 Milkly bar 10 200\n",
            "102 Cake 100 20\n",
            "103 Candly 15 400\n",
            "104 Popcorn 50 100\n",
            "105 blueberry 60 20\n"
          ]
        }
      ]
    },
    {
      "cell_type": "markdown",
      "source": [
        "# Creating a Menu"
      ],
      "metadata": {
        "id": "wUFettUsuH96"
      }
    },
    {
      "cell_type": "code",
      "source": [
        "print(\"--------------------MENU---------------------\\n\")\n",
        "\n",
        "for key in record.keys():\n",
        "  print(key,\" : \",record[key][\"Name\"],record[key][\"Price\"],record[key][\"Qn\"])\n",
        "print(\"----------------------------------------------\\n\")"
      ],
      "metadata": {
        "colab": {
          "base_uri": "https://localhost:8080/"
        },
        "id": "XrO46GeGsbZi",
        "outputId": "e17354ea-6089-484a-f7a4-7f6da2a4c5d2"
      },
      "execution_count": 17,
      "outputs": [
        {
          "output_type": "stream",
          "name": "stdout",
          "text": [
            "--------------------MENU---------------------\n",
            "\n",
            "101  :  Milkly bar 10 200\n",
            "102  :  Cake 100 20\n",
            "103  :  Candly 15 400\n",
            "104  :  Popcorn 50 100\n",
            "105  :  blueberry 60 20\n",
            "----------------------------------------------\n",
            "\n"
          ]
        }
      ]
    },
    {
      "cell_type": "code",
      "source": [
        "record = {101: {'Name' : 'Milkly bar' , 'Price' : 10  , 'Qn' : 200},\n",
        "          102: {'Name' : 'Cake'       , 'Price' : 100 , 'Qn' : 20},\n",
        "          103: {'Name' : 'Candly'     , 'Price' : 15  , 'Qn' : 400},\n",
        "          104: {'Name' : 'Popcorn'    , 'Price' : 50  , 'Qn' : 100},\n",
        "          105: {'Name' : 'blueberry'  , 'Price' : 60  , 'Qn' : 20}}\n",
        "\n",
        "print(\"-----------------------------MENU--------------------------------\\n\")\n",
        "\n",
        "for key in record.keys():\n",
        "  print(key,\" : \",record[key][\"Name\"],record[key][\"Price\"],record[key][\"Qn\"])\n",
        "print(\"------------------------------------------------------------------\\n\")\n",
        "\n",
        "ui_prod_id = int(input(\"Enter Product ID         :\"))\n",
        "ui_prod_qn = int(input(\"Enter Product Quantity   :\"))\n",
        "\n",
        "print(\"-------------------------Billing Details--------------------------\\n\")\n",
        "\n",
        "print(\"Details of the Product\")\n",
        "print(\"Product Name:                           \",record[ui_prod_id][\"Name\"])\n",
        "print(\"Price of the product:                   \",record[ui_prod_id][\"Price\"])\n",
        "print(\"Product Quantity customer wants:        \",ui_prod_qn)\n",
        "print(\"------------------------------------------------------------------\\n\")\n",
        "print(\"Total Cost:                             \",ui_prod_qn * record[ui_prod_id][\"Price\"])\n",
        "print(\"------------------------------------------------------------------\\n\")\n",
        "print(\"Thanks visit Again\")\n",
        "\n"
      ],
      "metadata": {
        "colab": {
          "base_uri": "https://localhost:8080/"
        },
        "id": "UCs3HFE_uL4b",
        "outputId": "bade78c6-dc16-4acb-c8df-2f2c04ffd760"
      },
      "execution_count": 21,
      "outputs": [
        {
          "output_type": "stream",
          "name": "stdout",
          "text": [
            "-----------------------------MENU--------------------------------\n",
            "\n",
            "101  :  Milkly bar 10 200\n",
            "102  :  Cake 100 20\n",
            "103  :  Candly 15 400\n",
            "104  :  Popcorn 50 100\n",
            "105  :  blueberry 60 20\n",
            "------------------------------------------------------------------\n",
            "\n",
            "Enter Product ID         :101\n",
            "Enter Product Quantity   :4\n",
            "-------------------------Billing Details--------------------------\n",
            "\n",
            "Details of the Product\n",
            "Product Name:                            Milkly bar\n",
            "Price of the product:                    10\n",
            "Product Quantity customer wants:         4\n",
            "------------------------------------------------------------------\n",
            "\n",
            "Total Cost:                              40\n",
            "------------------------------------------------------------------\n",
            "\n",
            "Thanks visit Again\n"
          ]
        }
      ]
    },
    {
      "cell_type": "markdown",
      "source": [
        "# Saving records in file"
      ],
      "metadata": {
        "id": "qhheZORDz_U_"
      }
    },
    {
      "cell_type": "code",
      "source": [
        "import json"
      ],
      "metadata": {
        "id": "IuS8hf710uwE"
      },
      "execution_count": 23,
      "outputs": []
    },
    {
      "cell_type": "code",
      "source": [
        "json.dumps(record)"
      ],
      "metadata": {
        "colab": {
          "base_uri": "https://localhost:8080/",
          "height": 53
        },
        "id": "w8EwacPu1RsZ",
        "outputId": "7b351a50-fd11-4b0f-f82e-ab740369fb2b"
      },
      "execution_count": 24,
      "outputs": [
        {
          "output_type": "execute_result",
          "data": {
            "text/plain": [
              "'{\"101\": {\"Name\": \"Milkly bar\", \"Price\": 10, \"Qn\": 200}, \"102\": {\"Name\": \"Cake\", \"Price\": 100, \"Qn\": 20}, \"103\": {\"Name\": \"Candly\", \"Price\": 15, \"Qn\": 400}, \"104\": {\"Name\": \"Popcorn\", \"Price\": 50, \"Qn\": 100}, \"105\": {\"Name\": \"blueberry\", \"Price\": 60, \"Qn\": 20}}'"
            ],
            "application/vnd.google.colaboratory.intrinsic+json": {
              "type": "string"
            }
          },
          "metadata": {},
          "execution_count": 24
        }
      ]
    },
    {
      "cell_type": "code",
      "source": [
        "type(json.dumps(record))"
      ],
      "metadata": {
        "colab": {
          "base_uri": "https://localhost:8080/"
        },
        "id": "3pwsvx-51Wbx",
        "outputId": "b212a2a6-63a6-4e63-d7b6-d194ac0482a8"
      },
      "execution_count": 25,
      "outputs": [
        {
          "output_type": "execute_result",
          "data": {
            "text/plain": [
              "str"
            ]
          },
          "metadata": {},
          "execution_count": 25
        }
      ]
    },
    {
      "cell_type": "code",
      "source": [
        "js = json.dumps(record)"
      ],
      "metadata": {
        "id": "FhlkcZjb1eFa"
      },
      "execution_count": 26,
      "outputs": []
    },
    {
      "cell_type": "code",
      "source": [
        "with open(\"/content/sample_data/dataofjson\",\"w\") as f:\n",
        "  f.write(js)"
      ],
      "metadata": {
        "id": "JggpwLWD1eJp"
      },
      "execution_count": 27,
      "outputs": []
    },
    {
      "cell_type": "code",
      "source": [
        "record = {101: {'Name' : 'Milkly bar' , 'Price' : 10  , 'Qn' : 200},\n",
        "          102: {'Name' : 'Cake'       , 'Price' : 100 , 'Qn' : 20},\n",
        "          103: {'Name' : 'Candly'     , 'Price' : 15  , 'Qn' : 400},\n",
        "          104: {'Name' : 'Popcorn'    , 'Price' : 50  , 'Qn' : 100},\n",
        "          105: {'Name' : 'blueberry'  , 'Price' : 60  , 'Qn' : 20}}\n",
        "\n",
        "print(\"-----------------------------MENU--------------------------------\\n\")\n",
        "\n",
        "for key in record.keys():\n",
        "  print(key,\" : \",record[key][\"Name\"],record[key][\"Price\"],record[key][\"Qn\"])\n",
        "print(\"------------------------------------------------------------------\\n\")\n",
        "\n",
        "ui_prod_id = int(input(\"Enter Product ID         :\"))\n",
        "ui_prod_qn = int(input(\"Enter Product Quantity   :\"))\n",
        "\n",
        "print(\"-------------------------Billing Details--------------------------\\n\")\n",
        "\n",
        "print(\"Details of the Product\")\n",
        "print(\"Product Name:                           \",record[ui_prod_id][\"Name\"])\n",
        "print(\"Price of the product:                   \",record[ui_prod_id][\"Price\"])\n",
        "print(\"Product Quantity customer wants:        \",ui_prod_qn)\n",
        "print(\"------------------------------------------------------------------\\n\")\n",
        "print(\"Total Cost:                             \",ui_prod_qn * record[ui_prod_id][\"Price\"])\n",
        "print(\"------------------------------------------------------------------\\n\")\n",
        "print(\"Thanks visit Again\")\n",
        "\n",
        "js = json.dumps(record)\n",
        "with open(\"/content/sample_data/dataofjson\",\"w\") as f:\n",
        "  f.write(js)\n"
      ],
      "metadata": {
        "colab": {
          "base_uri": "https://localhost:8080/"
        },
        "id": "Xqc_3_1r2fX2",
        "outputId": "f73c24d9-0e4f-419d-9f3e-d476eca21b10"
      },
      "execution_count": 29,
      "outputs": [
        {
          "output_type": "stream",
          "name": "stdout",
          "text": [
            "-----------------------------MENU--------------------------------\n",
            "\n",
            "101  :  Milkly bar 10 200\n",
            "102  :  Cake 100 20\n",
            "103  :  Candly 15 400\n",
            "104  :  Popcorn 50 100\n",
            "105  :  blueberry 60 20\n",
            "------------------------------------------------------------------\n",
            "\n",
            "Enter Product ID         :101\n",
            "Enter Product Quantity   :150\n",
            "-------------------------Billing Details--------------------------\n",
            "\n",
            "Details of the Product\n",
            "Product Name:                            Milkly bar\n",
            "Price of the product:                    10\n",
            "Product Quantity customer wants:         150\n",
            "------------------------------------------------------------------\n",
            "\n",
            "Total Cost:                              1500\n",
            "------------------------------------------------------------------\n",
            "\n",
            "Thanks visit Again\n"
          ]
        }
      ]
    },
    {
      "cell_type": "markdown",
      "source": [
        "# Loading Records"
      ],
      "metadata": {
        "id": "fLyIBAM54xFn"
      }
    },
    {
      "cell_type": "code",
      "source": [
        "json.loads(js)"
      ],
      "metadata": {
        "colab": {
          "base_uri": "https://localhost:8080/"
        },
        "id": "og3EChyI4wPT",
        "outputId": "2c30f024-3709-48de-9fde-0a46db08ffa0"
      },
      "execution_count": 30,
      "outputs": [
        {
          "output_type": "execute_result",
          "data": {
            "text/plain": [
              "{'101': {'Name': 'Milkly bar', 'Price': 10, 'Qn': 200},\n",
              " '102': {'Name': 'Cake', 'Price': 100, 'Qn': 20},\n",
              " '103': {'Name': 'Candly', 'Price': 15, 'Qn': 400},\n",
              " '104': {'Name': 'Popcorn', 'Price': 50, 'Qn': 100},\n",
              " '105': {'Name': 'blueberry', 'Price': 60, 'Qn': 20}}"
            ]
          },
          "metadata": {},
          "execution_count": 30
        }
      ]
    },
    {
      "cell_type": "code",
      "source": [
        "with open(\"/content/sample_data/dataofjson\",\"r\") as f:\n",
        "  f.read()\n",
        "\n",
        "record = json.loads(js)\n",
        "\n",
        "print(\"-----------------------------MENU--------------------------------\\n\")\n",
        "\n",
        "for key in record.keys():\n",
        "  print(key,\" : \",record[key][\"Name\"],record[key][\"Price\"],record[key][\"Qn\"])\n",
        "print(\"------------------------------------------------------------------\\n\")\n",
        "\n",
        "ui_prod_id = str(input(\"Enter Product ID         :\"))\n",
        "ui_prod_qn = int(input(\"Enter Product Quantity   :\"))\n",
        "\n",
        "print(\"-------------------------Billing Details--------------------------\\n\")\n",
        "\n",
        "print(\"Details of the Product\")\n",
        "print(\"Product Name:                           \",record[ui_prod_id][\"Name\"])\n",
        "print(\"Price of the product:                   \",record[ui_prod_id][\"Price\"])\n",
        "print(\"Product Quantity customer wants:        \",ui_prod_qn)\n",
        "print(\"------------------------------------------------------------------\\n\")\n",
        "print(\"Total Cost:                             \",ui_prod_qn * record[ui_prod_id][\"Price\"])\n",
        "print(\"------------------------------------------------------------------\\n\")\n",
        "print(\"Thanks visit Again\")\n",
        "\n",
        "js = json.dumps(record)\n",
        "with open(\"/content/sample_data/dataofjson\",\"w\") as f:\n",
        "  f.write(js)"
      ],
      "metadata": {
        "colab": {
          "base_uri": "https://localhost:8080/"
        },
        "id": "9NMmtaTk2fmw",
        "outputId": "ef5b7504-b520-43a5-dd62-da1293463d00"
      },
      "execution_count": 32,
      "outputs": [
        {
          "output_type": "stream",
          "name": "stdout",
          "text": [
            "-----------------------------MENU--------------------------------\n",
            "\n",
            "101  :  Milkly bar 10 200\n",
            "102  :  Cake 100 20\n",
            "103  :  Candly 15 400\n",
            "104  :  Popcorn 50 100\n",
            "105  :  blueberry 60 20\n",
            "------------------------------------------------------------------\n",
            "\n",
            "Enter Product ID         :101\n",
            "Enter Product Quantity   :20\n",
            "-------------------------Billing Details--------------------------\n",
            "\n",
            "Details of the Product\n",
            "Product Name:                            Milkly bar\n",
            "Price of the product:                    10\n",
            "Product Quantity customer wants:         20\n",
            "------------------------------------------------------------------\n",
            "\n",
            "Total Cost:                              200\n",
            "------------------------------------------------------------------\n",
            "\n",
            "Thanks visit Again\n"
          ]
        }
      ]
    },
    {
      "cell_type": "markdown",
      "source": [
        "# Adding functionalities"
      ],
      "metadata": {
        "id": "G19FJktA8Tdn"
      }
    },
    {
      "cell_type": "code",
      "source": [
        "with open(\"/content/sample_data/dataofjson\",\"r\") as f:\n",
        "  f.read()\n",
        "\n",
        "record = json.loads(js)\n",
        "\n",
        "print(\"-----------------------------MENU--------------------------------\\n\")\n",
        "\n",
        "for key in record.keys():\n",
        "  print(key,\" : \",record[key][\"Name\"],record[key][\"Price\"],record[key][\"Qn\"])\n",
        "print(\"------------------------------------------------------------------\\n\")\n",
        "\n",
        "ui_prod_id = str(input(\"Enter Product ID         :\"))\n",
        "ui_prod_qn = int(input(\"Enter Product Quantity   :\"))\n",
        "if(ui_prod_qn <= record[key][\"Qn\"] ):\n",
        "  print(\"-------------------------Billing Details--------------------------\\n\")\n",
        "\n",
        "  print(\"Details of the Product\")\n",
        "  print(\"Product Name:                           \",record[ui_prod_id][\"Name\"])\n",
        "  print(\"Price of the product:                   \",record[ui_prod_id][\"Price\"])\n",
        "  print(\"Product Quantity customer wants:        \",ui_prod_qn)\n",
        "  print(\"------------------------------------------------------------------\\n\")\n",
        "  print(\"Total Cost:                             \",ui_prod_qn * record[ui_prod_id][\"Price\"])\n",
        "  print(\"------------------------------------------------------------------\\n\")\n",
        "  print(\"Thanks visit Again\")\n",
        "else:\n",
        "  print(\"Sorry, we have\"+\" \",record[key][\"Qn\"])\n",
        "  ch = input(\"if u want please press yes or No : \")\n",
        "  if( ch == 'y' or ch == 'Y' or ch == 'yes' or ch == \"YES\"):\n",
        "    print(\"-------------------------Billing Details--------------------------\\n\")\n",
        "\n",
        "    print(\"Details of the Product\")\n",
        "    print(\"Product Name:                           \",record[ui_prod_id][\"Name\"])\n",
        "    print(\"Price of the product:                   \",record[ui_prod_id][\"Price\"])\n",
        "    print(\"Product Quantity customer wants:        \",record[key][\"Qn\"])\n",
        "    print(\"------------------------------------------------------------------\\n\")\n",
        "    print(\"Total Cost:                             \",record[key][\"Qn\"] * record[ui_prod_id][\"Price\"])\n",
        "    print(\"------------------------------------------------------------------\\n\")\n",
        "    print(\"Thanks visit Again\")\n",
        "  else:\n",
        "    print(\"Thanks visit Again\")\n",
        "js = json.dumps(record)\n",
        "with open(\"/content/sample_data/dataofjson\",\"w\") as f:\n",
        "  f.write(js)"
      ],
      "metadata": {
        "colab": {
          "base_uri": "https://localhost:8080/"
        },
        "id": "yFtwy_jQ7TOV",
        "outputId": "9e74061d-227f-45ba-949f-53df6c03a47f"
      },
      "execution_count": 37,
      "outputs": [
        {
          "output_type": "stream",
          "name": "stdout",
          "text": [
            "-----------------------------MENU--------------------------------\n",
            "\n",
            "101  :  Milkly bar 10 200\n",
            "102  :  Cake 100 20\n",
            "103  :  Candly 15 400\n",
            "104  :  Popcorn 50 100\n",
            "105  :  blueberry 60 20\n",
            "------------------------------------------------------------------\n",
            "\n",
            "Enter Product ID         :105\n",
            "Enter Product Quantity   :30\n",
            "Sorry, we have  20\n",
            "if u want please press yes or No : y\n",
            "-------------------------Billing Details--------------------------\n",
            "\n",
            "Details of the Product\n",
            "Product Name:                            blueberry\n",
            "Price of the product:                    60\n",
            "Product Quantity customer wants:         20\n",
            "------------------------------------------------------------------\n",
            "\n",
            "Total Cost:                              1200\n",
            "------------------------------------------------------------------\n",
            "\n",
            "Thanks visit Again\n"
          ]
        }
      ]
    },
    {
      "cell_type": "code",
      "source": [
        "with open(\"/content/sample_data/dataofjson\",\"r\") as f:\n",
        "  f.read()\n",
        "\n",
        "record = json.loads(js)\n",
        "\n",
        "print(\"-----------------------------MENU--------------------------------\\n\")\n",
        "\n",
        "for key in record.keys():\n",
        "  print(key,\" : \",record[key][\"Name\"],record[key][\"Price\"],record[key][\"Qn\"])\n",
        "print(\"------------------------------------------------------------------\\n\")\n",
        "\n",
        "ui_prod_id = str(input(\"Enter Product ID         :\"))\n",
        "ui_prod_qn = int(input(\"Enter Product Quantity   :\"))\n",
        "if(ui_prod_qn <= record[key][\"Qn\"] ):\n",
        "  print(\"-------------------------Billing Details--------------------------\\n\")\n",
        "\n",
        "  print(\"Details of the Product\")\n",
        "  print(\"Product Name:                           \",record[ui_prod_id][\"Name\"])\n",
        "  print(\"Price of the product:                   \",record[ui_prod_id][\"Price\"])\n",
        "  print(\"Product Quantity customer wants:        \",ui_prod_qn)\n",
        "  print(\"------------------------------------------------------------------\\n\")\n",
        "  print(\"Total Cost:                             \",ui_prod_qn * record[ui_prod_id][\"Price\"])\n",
        "  print(\"------------------------------------------------------------------\\n\")\n",
        "  print(\"Thanks visit Again\")\n",
        "else:\n",
        "  print(\"Sorry, we have\"+\" \",record[key][\"Qn\"])\n",
        "  ch = input(\"if u want please press yes or No : \")\n",
        "  if( ch == 'y' or ch == 'Y' or ch == 'yes' or ch == \"YES\"):\n",
        "    print(\"-------------------------Billing Details--------------------------\\n\")\n",
        "\n",
        "    print(\"Details of the Product\")\n",
        "    print(\"Product Name:                           \",record[ui_prod_id][\"Name\"])\n",
        "    print(\"Price of the product:                   \",record[ui_prod_id][\"Price\"])\n",
        "    print(\"Product Quantity customer wants:        \",record[key][\"Qn\"])\n",
        "    print(\"------------------------------------------------------------------\\n\")\n",
        "    print(\"Total Cost:                             \",record[key][\"Qn\"] * record[ui_prod_id][\"Price\"])\n",
        "    print(\"------------------------------------------------------------------\\n\")\n",
        "    print(\"Thanks visit Again\")\n",
        "  else:\n",
        "    print(\"Thanks visit Again\")\n",
        "js = json.dumps(record)\n",
        "with open(\"/content/sample_data/dataofjson\",\"w\") as f:\n",
        "  f.write(js)"
      ],
      "metadata": {
        "colab": {
          "base_uri": "https://localhost:8080/"
        },
        "id": "ZyFPa-Pl_MGa",
        "outputId": "29043af3-80ac-4bce-d415-5669b12466f2"
      },
      "execution_count": 38,
      "outputs": [
        {
          "output_type": "stream",
          "name": "stdout",
          "text": [
            "-----------------------------MENU--------------------------------\n",
            "\n",
            "101  :  Milkly bar 10 200\n",
            "102  :  Cake 100 20\n",
            "103  :  Candly 15 400\n",
            "104  :  Popcorn 50 100\n",
            "105  :  blueberry 60 20\n",
            "------------------------------------------------------------------\n",
            "\n",
            "Enter Product ID         :101\n",
            "Enter Product Quantity   :300\n",
            "Sorry, we have  20\n",
            "if u want please press yes or No : n\n",
            "Thanks visit Again\n"
          ]
        }
      ]
    },
    {
      "cell_type": "markdown",
      "source": [
        "# Storing customer information"
      ],
      "metadata": {
        "id": "5siFe6-EAbOK"
      }
    },
    {
      "cell_type": "code",
      "source": [
        "with open(\"/content/sample_data/dataofjson\",\"r\") as f:\n",
        "  f.read()\n",
        "\n",
        "record = json.loads(js)\n",
        "\n",
        "print(\"-----------------------------MENU--------------------------------\\n\")\n",
        "\n",
        "for key in record.keys():\n",
        "  print(key,\" : \",record[key][\"Name\"],record[key][\"Price\"],record[key][\"Qn\"])\n",
        "print(\"--------------------CUSTOMER DETAILS-----------------------------\\n\")\n",
        "cus_name = str(input(\"Enter customer name:\"))\n",
        "cus_email = str(input(\"Enter customer email:\"))\n",
        "cus_phone = str(input(\"Enter customer phone:\"))\n",
        "cus_city = str(input(\"Enter customer city:\\n\"))\n",
        "ui_prod_id = str(input(\"Enter Product ID         :\"))\n",
        "ui_prod_qn = int(input(\"Enter Product Quantity   :\"))\n",
        "if(ui_prod_qn <= record[key][\"Qn\"] ):\n",
        "  print(\"-------------------------Billing Details--------------------------\\n\")\n",
        "  print(\"Name of the customer:                   \",cus_name)\n",
        "  print(\"Name of the email id:                   \",cus_email)\n",
        "  print(\"Name of the phone number:               \",cus_phone)\n",
        "  print(\"Name of the customer:                   \",cus_city)\n",
        "  print()\n",
        "  print()\n",
        "  print(\"Details of the Product\\n\")\n",
        "  print(\"Product Name:                           \",record[ui_prod_id][\"Name\"])\n",
        "  print(\"Price of the product:                   \",record[ui_prod_id][\"Price\"])\n",
        "  print(\"Product Quantity customer wants:        \",ui_prod_qn)\n",
        "  print(\"------------------------------------------------------------------\\n\")\n",
        "  print(\"Total Cost:                             \",ui_prod_qn * record[ui_prod_id][\"Price\"])\n",
        "  print(\"------------------------------------------------------------------\\n\")\n",
        "  print(\"Thanks visit Again\")\n",
        "else:\n",
        "  print(\"Sorry, we have\"+\" \",record[key][\"Qn\"])\n",
        "  ch = input(\"if u want please press yes or No : \")\n",
        "  if( ch == 'y' or ch == 'Y' or ch == 'yes' or ch == \"YES\"):\n",
        "    print(\"-------------------------Billing Details--------------------------\\n\")\n",
        "\n",
        "    print(\"Details of the Product\")\n",
        "    print(\"Product Name:                           \",record[ui_prod_id][\"Name\"])\n",
        "    print(\"Price of the product:                   \",record[ui_prod_id][\"Price\"])\n",
        "    print(\"Product Quantity customer wants:        \",record[key][\"Qn\"])\n",
        "    print(\"------------------------------------------------------------------\\n\")\n",
        "    print(\"Total Cost:                             \",record[key][\"Qn\"] * record[ui_prod_id][\"Price\"])\n",
        "    print(\"------------------------------------------------------------------\\n\")\n",
        "    print(\"Thanks visit Again\")\n",
        "  else:\n",
        "    print(\"Thanks visit Again\")\n",
        "\n",
        "js = json.dumps(record)\n",
        "with open(\"/content/sample_data/dataofjson\",\"w\") as f:\n",
        "  f.write(js)"
      ],
      "metadata": {
        "colab": {
          "base_uri": "https://localhost:8080/"
        },
        "id": "MQB4-uj7_Tey",
        "outputId": "549f9554-30dd-43f9-db16-315c6cca7658"
      },
      "execution_count": 42,
      "outputs": [
        {
          "output_type": "stream",
          "name": "stdout",
          "text": [
            "-----------------------------MENU--------------------------------\n",
            "\n",
            "101  :  Milkly bar 10 200\n",
            "102  :  Cake 100 20\n",
            "103  :  Candly 15 400\n",
            "104  :  Popcorn 50 100\n",
            "105  :  blueberry 60 20\n",
            "--------------------CUSTOMER DETAILS-----------------------------\n",
            "\n",
            "Enter customer name:XYZ\n",
            "Enter customer email:xyz@gmail.com\n",
            "Enter customer phone:6677888899\n",
            "Enter customer city:\n",
            "Banglore\n",
            "Enter Product ID         :101\n",
            "Enter Product Quantity   :23\n",
            "Sorry, we have  20\n",
            "if u want please press yes or No : y\n",
            "-------------------------Billing Details--------------------------\n",
            "\n",
            "Details of the Product\n",
            "Product Name:                            Milkly bar\n",
            "Price of the product:                    10\n",
            "Product Quantity customer wants:         20\n",
            "------------------------------------------------------------------\n",
            "\n",
            "Total Cost:                              200\n",
            "------------------------------------------------------------------\n",
            "\n",
            "Thanks visit Again\n"
          ]
        }
      ]
    }
  ]
}