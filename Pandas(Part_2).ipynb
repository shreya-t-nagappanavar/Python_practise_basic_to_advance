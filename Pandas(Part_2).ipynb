{
  "nbformat": 4,
  "nbformat_minor": 0,
  "metadata": {
    "colab": {
      "provenance": [],
      "toc_visible": true,
      "authorship_tag": "ABX9TyMyl1F2ClK904JI0hAFhT3m",
      "include_colab_link": true
    },
    "kernelspec": {
      "name": "python3",
      "display_name": "Python 3"
    },
    "language_info": {
      "name": "python"
    }
  },
  "cells": [
    {
      "cell_type": "markdown",
      "metadata": {
        "id": "view-in-github",
        "colab_type": "text"
      },
      "source": [
        "<a href=\"https://colab.research.google.com/github/shreya-t-nagappanavar/practice_demo/blob/main/Pandas(Part_2).ipynb\" target=\"_parent\"><img src=\"https://colab.research.google.com/assets/colab-badge.svg\" alt=\"Open In Colab\"/></a>"
      ]
    },
    {
      "cell_type": "code",
      "source": [
        "import pandas as pd"
      ],
      "metadata": {
        "id": "9Xi_O2AF7Y3S"
      },
      "execution_count": 2,
      "outputs": []
    },
    {
      "cell_type": "markdown",
      "source": [
        "# All string function can be used to extract or modify text in a series"
      ],
      "metadata": {
        "id": "TKkZuggc6xsE"
      }
    },
    {
      "cell_type": "code",
      "execution_count": 3,
      "metadata": {
        "id": "PcYgxvtuOZJT"
      },
      "outputs": [],
      "source": [
        "ser = pd.Series(['Shreya','Shrinivas','kasturi','machine learning','hello world'])"
      ]
    },
    {
      "cell_type": "code",
      "source": [
        "ser"
      ],
      "metadata": {
        "colab": {
          "base_uri": "https://localhost:8080/"
        },
        "id": "tv2svM_o7fBJ",
        "outputId": "16f3f2fd-5fa8-4607-d249-50a4e0166593"
      },
      "execution_count": 4,
      "outputs": [
        {
          "output_type": "execute_result",
          "data": {
            "text/plain": [
              "0              Shreya\n",
              "1           Shrinivas\n",
              "2             kasturi\n",
              "3    machine learning\n",
              "4         hello world\n",
              "dtype: object"
            ]
          },
          "metadata": {},
          "execution_count": 4
        }
      ]
    },
    {
      "cell_type": "markdown",
      "source": [
        "1. Upper and lower function"
      ],
      "metadata": {
        "id": "yWAiX_7K7i-v"
      }
    },
    {
      "cell_type": "code",
      "source": [
        "ser.str.upper()"
      ],
      "metadata": {
        "colab": {
          "base_uri": "https://localhost:8080/"
        },
        "id": "4rgAxd1U7fD6",
        "outputId": "072c273f-6698-4e65-8eb9-7ba9d487a46a"
      },
      "execution_count": 5,
      "outputs": [
        {
          "output_type": "execute_result",
          "data": {
            "text/plain": [
              "0              SHREYA\n",
              "1           SHRINIVAS\n",
              "2             KASTURI\n",
              "3    MACHINE LEARNING\n",
              "4         HELLO WORLD\n",
              "dtype: object"
            ]
          },
          "metadata": {},
          "execution_count": 5
        }
      ]
    },
    {
      "cell_type": "code",
      "source": [
        "ser.str.lower()"
      ],
      "metadata": {
        "colab": {
          "base_uri": "https://localhost:8080/"
        },
        "id": "TOK04ejP74tD",
        "outputId": "cf4077df-65b0-4e8d-9461-c4f16fac400d"
      },
      "execution_count": 6,
      "outputs": [
        {
          "output_type": "execute_result",
          "data": {
            "text/plain": [
              "0              shreya\n",
              "1           shrinivas\n",
              "2             kasturi\n",
              "3    machine learning\n",
              "4         hello world\n",
              "dtype: object"
            ]
          },
          "metadata": {},
          "execution_count": 6
        }
      ]
    },
    {
      "cell_type": "markdown",
      "source": [
        "2. Length function"
      ],
      "metadata": {
        "id": "zCjdyM6R8BjO"
      }
    },
    {
      "cell_type": "code",
      "source": [
        "for i in ser:\n",
        "  print(len(i))"
      ],
      "metadata": {
        "colab": {
          "base_uri": "https://localhost:8080/"
        },
        "id": "1NVVsnFv74u9",
        "outputId": "692fab4e-8f30-454d-dfe6-24eb7a691514"
      },
      "execution_count": 8,
      "outputs": [
        {
          "output_type": "stream",
          "name": "stdout",
          "text": [
            "6\n",
            "9\n",
            "7\n",
            "16\n",
            "11\n"
          ]
        }
      ]
    },
    {
      "cell_type": "markdown",
      "source": [
        "3. Strip Function(Removes extra space)"
      ],
      "metadata": {
        "id": "vyuRkGPX8z8B"
      }
    },
    {
      "cell_type": "code",
      "source": [
        "ser = pd.Series(['Shreya ', 'Shrinivas' , 'kasturi' , 'machine      learning','hello world   '])\n",
        "for i in ser:\n",
        "  print(i,len(i))"
      ],
      "metadata": {
        "colab": {
          "base_uri": "https://localhost:8080/"
        },
        "id": "nDXb_51J74yz",
        "outputId": "afecf67e-bd10-41f3-b81c-2d2c4447ada3"
      },
      "execution_count": 11,
      "outputs": [
        {
          "output_type": "stream",
          "name": "stdout",
          "text": [
            "Shreya  7\n",
            "Shrinivas 9\n",
            "kasturi 7\n",
            "machine      learning 21\n",
            "hello world    14\n"
          ]
        }
      ]
    },
    {
      "cell_type": "code",
      "source": [
        "ser = ser.str.strip()\n",
        "for i in ser:\n",
        "  print(i,len(i))"
      ],
      "metadata": {
        "colab": {
          "base_uri": "https://localhost:8080/"
        },
        "id": "c3a5UlMJ9jKK",
        "outputId": "febb04c7-da6b-478b-ff83-8909acb5be15"
      },
      "execution_count": 13,
      "outputs": [
        {
          "output_type": "stream",
          "name": "stdout",
          "text": [
            "Shreya 6\n",
            "Shrinivas 9\n",
            "kasturi 7\n",
            "machine      learning 21\n",
            "hello world 11\n"
          ]
        }
      ]
    },
    {
      "cell_type": "markdown",
      "source": [
        "4. Split Function"
      ],
      "metadata": {
        "id": "TeUxJOY6-RSG"
      }
    },
    {
      "cell_type": "code",
      "source": [
        "ser.str.split()"
      ],
      "metadata": {
        "colab": {
          "base_uri": "https://localhost:8080/"
        },
        "id": "U0QqyiuE-C6N",
        "outputId": "e8574e23-c4f3-437a-994a-1dddd98c3a2a"
      },
      "execution_count": 14,
      "outputs": [
        {
          "output_type": "execute_result",
          "data": {
            "text/plain": [
              "0               [Shreya]\n",
              "1            [Shrinivas]\n",
              "2              [kasturi]\n",
              "3    [machine, learning]\n",
              "4         [hello, world]\n",
              "dtype: object"
            ]
          },
          "metadata": {},
          "execution_count": 14
        }
      ]
    },
    {
      "cell_type": "code",
      "source": [
        "ser.str.split()[3]  #spliting the vales by index"
      ],
      "metadata": {
        "colab": {
          "base_uri": "https://localhost:8080/"
        },
        "id": "q0EqDiz0-C3U",
        "outputId": "979c7eea-c3b1-4673-f8a3-8b1e95ba807e"
      },
      "execution_count": 15,
      "outputs": [
        {
          "output_type": "execute_result",
          "data": {
            "text/plain": [
              "['machine', 'learning']"
            ]
          },
          "metadata": {},
          "execution_count": 15
        }
      ]
    },
    {
      "cell_type": "code",
      "source": [
        "pd.Series(['10/3/2022','19/4/2027','23/6/2025']).str.split('/')"
      ],
      "metadata": {
        "colab": {
          "base_uri": "https://localhost:8080/"
        },
        "id": "rVeruhpG9jHS",
        "outputId": "518aa471-f4df-42f2-d7bc-ac016a9ae67f"
      },
      "execution_count": 16,
      "outputs": [
        {
          "output_type": "execute_result",
          "data": {
            "text/plain": [
              "0    [10, 3, 2022]\n",
              "1    [19, 4, 2027]\n",
              "2    [23, 6, 2025]\n",
              "dtype: object"
            ]
          },
          "metadata": {},
          "execution_count": 16
        }
      ]
    },
    {
      "cell_type": "code",
      "source": [
        "pd.Series(['10/3/2022','19/4/2027','23/6/2025']).str.split('/')[1]"
      ],
      "metadata": {
        "colab": {
          "base_uri": "https://localhost:8080/"
        },
        "id": "LbDNwFcKAoNF",
        "outputId": "599173da-b374-439e-cf16-2d9c0ce2c210"
      },
      "execution_count": 17,
      "outputs": [
        {
          "output_type": "execute_result",
          "data": {
            "text/plain": [
              "['19', '4', '2027']"
            ]
          },
          "metadata": {},
          "execution_count": 17
        }
      ]
    },
    {
      "cell_type": "markdown",
      "source": [
        "5. Contains Function"
      ],
      "metadata": {
        "id": "-rBPLl_zBvEr"
      }
    },
    {
      "cell_type": "code",
      "source": [
        "ser = pd.Series(['Shreya@', 'Shrinivas' , 'kasturi' , 'machine @ learning','hello world'])"
      ],
      "metadata": {
        "id": "MUudpWiRB3TV"
      },
      "execution_count": 18,
      "outputs": []
    },
    {
      "cell_type": "code",
      "source": [
        "ser = pd.Series(['Shreya@', 'Shrinivas' , 'kasturi' , 'machine @ learning','hello world'])\n",
        "ser.str.contains('@')"
      ],
      "metadata": {
        "colab": {
          "base_uri": "https://localhost:8080/"
        },
        "id": "OF_LhRdUCXie",
        "outputId": "8e28c032-293c-43f4-a869-11ab079a66c0"
      },
      "execution_count": 20,
      "outputs": [
        {
          "output_type": "execute_result",
          "data": {
            "text/plain": [
              "0     True\n",
              "1    False\n",
              "2    False\n",
              "3     True\n",
              "4    False\n",
              "dtype: bool"
            ]
          },
          "metadata": {},
          "execution_count": 20
        }
      ]
    },
    {
      "cell_type": "markdown",
      "source": [
        "6. Replace Function"
      ],
      "metadata": {
        "id": "ApTqU0BvDEFd"
      }
    },
    {
      "cell_type": "code",
      "source": [
        "ser = pd.Series(['Shreya@', 'Shrinivas' , 'kasturi' , 'machine @ learning','hello world'])\n",
        "ser.str.replace('@','')"
      ],
      "metadata": {
        "colab": {
          "base_uri": "https://localhost:8080/"
        },
        "id": "F-wsaj6WCXlc",
        "outputId": "a898050d-b1f5-4a6f-b9be-f0245a4d0dd1"
      },
      "execution_count": 21,
      "outputs": [
        {
          "output_type": "execute_result",
          "data": {
            "text/plain": [
              "0               Shreya\n",
              "1            Shrinivas\n",
              "2              kasturi\n",
              "3    machine  learning\n",
              "4          hello world\n",
              "dtype: object"
            ]
          },
          "metadata": {},
          "execution_count": 21
        }
      ]
    },
    {
      "cell_type": "markdown",
      "source": [
        "7. Count Function"
      ],
      "metadata": {
        "id": "-PEv21rjDJza"
      }
    },
    {
      "cell_type": "code",
      "source": [
        "ser.str.count('a')"
      ],
      "metadata": {
        "colab": {
          "base_uri": "https://localhost:8080/"
        },
        "id": "mGVj0DDCDNqA",
        "outputId": "9ab887b6-d514-48fa-da8a-a146d8fa52d7"
      },
      "execution_count": 23,
      "outputs": [
        {
          "output_type": "execute_result",
          "data": {
            "text/plain": [
              "0    1\n",
              "1    1\n",
              "2    1\n",
              "3    2\n",
              "4    0\n",
              "dtype: int64"
            ]
          },
          "metadata": {},
          "execution_count": 23
        }
      ]
    },
    {
      "cell_type": "markdown",
      "source": [
        "8. Startswith and Endswith"
      ],
      "metadata": {
        "id": "wiLUbRxYDe3u"
      }
    },
    {
      "cell_type": "code",
      "source": [
        "ser = pd.Series(['Shreya@', 'Shrinivas' , 'kasturi' , 'machine @ learning','hello world'])\n",
        "ser.str.startswith('S')"
      ],
      "metadata": {
        "colab": {
          "base_uri": "https://localhost:8080/"
        },
        "id": "yzLDkfImDNul",
        "outputId": "b3369807-6e24-4b2c-e995-bbff7ec85cce"
      },
      "execution_count": 25,
      "outputs": [
        {
          "output_type": "execute_result",
          "data": {
            "text/plain": [
              "0     True\n",
              "1     True\n",
              "2    False\n",
              "3    False\n",
              "4    False\n",
              "dtype: bool"
            ]
          },
          "metadata": {},
          "execution_count": 25
        }
      ]
    },
    {
      "cell_type": "code",
      "source": [
        "ser.str.endswith('s')"
      ],
      "metadata": {
        "colab": {
          "base_uri": "https://localhost:8080/"
        },
        "id": "YAhUSeVtEPAO",
        "outputId": "9491b200-0fbe-47c6-c929-8c0fe00a1615"
      },
      "execution_count": 26,
      "outputs": [
        {
          "output_type": "execute_result",
          "data": {
            "text/plain": [
              "0    False\n",
              "1     True\n",
              "2    False\n",
              "3    False\n",
              "4    False\n",
              "dtype: bool"
            ]
          },
          "metadata": {},
          "execution_count": 26
        }
      ]
    },
    {
      "cell_type": "markdown",
      "source": [
        "9. Find Function"
      ],
      "metadata": {
        "id": "yvEfy2Q7F4rH"
      }
    },
    {
      "cell_type": "code",
      "source": [
        "ser = pd.Series(['Shreya@', 'Shrinivas' , 'kasturi' , 'machine @ learning','hello world'])\n",
        "ser.str.find('@')"
      ],
      "metadata": {
        "colab": {
          "base_uri": "https://localhost:8080/"
        },
        "id": "jNWqt-T-EO6A",
        "outputId": "8e44c541-8962-43f0-8394-3ba4f1ec67c5"
      },
      "execution_count": 27,
      "outputs": [
        {
          "output_type": "execute_result",
          "data": {
            "text/plain": [
              "0    6\n",
              "1   -1\n",
              "2   -1\n",
              "3    8\n",
              "4   -1\n",
              "dtype: int64"
            ]
          },
          "metadata": {},
          "execution_count": 27
        }
      ]
    },
    {
      "cell_type": "markdown",
      "source": [
        "# Converting a series to a list"
      ],
      "metadata": {
        "id": "IXU2NwKLGrxf"
      }
    },
    {
      "cell_type": "code",
      "source": [
        "ser = pd.Series(['Shreya', 'Shrinivas' , 'kasturi' , 'machine  learning','hello world'])"
      ],
      "metadata": {
        "id": "JcY0cwB8GlUe"
      },
      "execution_count": 29,
      "outputs": []
    },
    {
      "cell_type": "code",
      "source": [
        "print(ser)"
      ],
      "metadata": {
        "colab": {
          "base_uri": "https://localhost:8080/"
        },
        "id": "7GYmenWiHAaK",
        "outputId": "adc1baf9-4e9c-4745-e49e-8d0d7c78fd7a"
      },
      "execution_count": 30,
      "outputs": [
        {
          "output_type": "stream",
          "name": "stdout",
          "text": [
            "0               Shreya\n",
            "1            Shrinivas\n",
            "2              kasturi\n",
            "3    machine  learning\n",
            "4          hello world\n",
            "dtype: object\n"
          ]
        }
      ]
    },
    {
      "cell_type": "code",
      "source": [
        "ser.to_list()"
      ],
      "metadata": {
        "colab": {
          "base_uri": "https://localhost:8080/"
        },
        "id": "ND-ZbBGKHE0h",
        "outputId": "a02882dc-ce43-4414-89aa-9c8d4d52e2de"
      },
      "execution_count": 31,
      "outputs": [
        {
          "output_type": "execute_result",
          "data": {
            "text/plain": [
              "['Shreya', 'Shrinivas', 'kasturi', 'machine  learning', 'hello world']"
            ]
          },
          "metadata": {},
          "execution_count": 31
        }
      ]
    },
    {
      "cell_type": "code",
      "source": [
        "type(ser.to_list())"
      ],
      "metadata": {
        "colab": {
          "base_uri": "https://localhost:8080/"
        },
        "id": "VDzCMiR-HOPx",
        "outputId": "931dd22e-f073-4da9-fe76-6466ceab3910"
      },
      "execution_count": 32,
      "outputs": [
        {
          "output_type": "execute_result",
          "data": {
            "text/plain": [
              "list"
            ]
          },
          "metadata": {},
          "execution_count": 32
        }
      ]
    }
  ]
}