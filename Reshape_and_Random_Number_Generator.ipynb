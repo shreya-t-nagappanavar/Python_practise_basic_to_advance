{
  "nbformat": 4,
  "nbformat_minor": 0,
  "metadata": {
    "colab": {
      "provenance": [],
      "authorship_tag": "ABX9TyN62ZAn9X3ZfJym1DFMy/nI",
      "include_colab_link": true
    },
    "kernelspec": {
      "name": "python3",
      "display_name": "Python 3"
    },
    "language_info": {
      "name": "python"
    }
  },
  "cells": [
    {
      "cell_type": "markdown",
      "metadata": {
        "id": "view-in-github",
        "colab_type": "text"
      },
      "source": [
        "<a href=\"https://colab.research.google.com/github/shreya-t-nagappanavar/practice_demo/blob/main/Reshape_and_Random_Number_Generator.ipynb\" target=\"_parent\"><img src=\"https://colab.research.google.com/assets/colab-badge.svg\" alt=\"Open In Colab\"/></a>"
      ]
    },
    {
      "cell_type": "code",
      "execution_count": 1,
      "metadata": {
        "id": "2Ers0f1BzN5s"
      },
      "outputs": [],
      "source": [
        "import numpy as np"
      ]
    },
    {
      "cell_type": "code",
      "source": [
        "np.random.random((3,3))"
      ],
      "metadata": {
        "colab": {
          "base_uri": "https://localhost:8080/"
        },
        "id": "mlM0O2Rs1qhc",
        "outputId": "a5eb1a0a-a6d7-4931-ad32-8dab14e94774"
      },
      "execution_count": 2,
      "outputs": [
        {
          "output_type": "execute_result",
          "data": {
            "text/plain": [
              "array([[0.23099084, 0.83717474, 0.73873415],\n",
              "       [0.31814732, 0.02703684, 0.10048816],\n",
              "       [0.84633524, 0.0038692 , 0.20029504]])"
            ]
          },
          "metadata": {},
          "execution_count": 2
        }
      ]
    },
    {
      "cell_type": "code",
      "source": [
        "np.random.random()"
      ],
      "metadata": {
        "colab": {
          "base_uri": "https://localhost:8080/"
        },
        "id": "6UStXew31qt3",
        "outputId": "5b550614-d54e-4592-b532-f84276462eac"
      },
      "execution_count": 5,
      "outputs": [
        {
          "output_type": "execute_result",
          "data": {
            "text/plain": [
              "0.9387788825347955"
            ]
          },
          "metadata": {},
          "execution_count": 5
        }
      ]
    },
    {
      "cell_type": "code",
      "source": [
        "np.arange(1,20,2)"
      ],
      "metadata": {
        "colab": {
          "base_uri": "https://localhost:8080/"
        },
        "id": "LGGjQ1G52Xui",
        "outputId": "5f2c36da-7907-4cbb-9c62-0335f867d4e7"
      },
      "execution_count": 6,
      "outputs": [
        {
          "output_type": "execute_result",
          "data": {
            "text/plain": [
              "array([ 1,  3,  5,  7,  9, 11, 13, 15, 17, 19])"
            ]
          },
          "metadata": {},
          "execution_count": 6
        }
      ]
    },
    {
      "cell_type": "code",
      "source": [
        "np.linspace(1,10,20)"
      ],
      "metadata": {
        "colab": {
          "base_uri": "https://localhost:8080/"
        },
        "id": "20ZRn_QV23Gs",
        "outputId": "146650ec-3513-4a92-a7ba-ec8434e6607a"
      },
      "execution_count": 10,
      "outputs": [
        {
          "output_type": "execute_result",
          "data": {
            "text/plain": [
              "array([ 1.        ,  1.47368421,  1.94736842,  2.42105263,  2.89473684,\n",
              "        3.36842105,  3.84210526,  4.31578947,  4.78947368,  5.26315789,\n",
              "        5.73684211,  6.21052632,  6.68421053,  7.15789474,  7.63157895,\n",
              "        8.10526316,  8.57894737,  9.05263158,  9.52631579, 10.        ])"
            ]
          },
          "metadata": {},
          "execution_count": 10
        }
      ]
    },
    {
      "cell_type": "code",
      "source": [
        "arr = np.random.random((6,3))"
      ],
      "metadata": {
        "id": "gRA8-mnL23ZX"
      },
      "execution_count": 11,
      "outputs": []
    },
    {
      "cell_type": "code",
      "source": [
        "arr"
      ],
      "metadata": {
        "colab": {
          "base_uri": "https://localhost:8080/"
        },
        "id": "Yhell2da4QSm",
        "outputId": "666b2b2b-e38a-4d58-b3b9-737fc9e832c6"
      },
      "execution_count": 12,
      "outputs": [
        {
          "output_type": "execute_result",
          "data": {
            "text/plain": [
              "array([[0.52995289, 0.85114581, 0.11698541],\n",
              "       [0.14649199, 0.0378543 , 0.05501215],\n",
              "       [0.65687368, 0.21699668, 0.40747226],\n",
              "       [0.98740409, 0.10996246, 0.75265263],\n",
              "       [0.80949294, 0.10987534, 0.00456709],\n",
              "       [0.82750517, 0.70634104, 0.90635195]])"
            ]
          },
          "metadata": {},
          "execution_count": 12
        }
      ]
    },
    {
      "cell_type": "code",
      "source": [
        "arr = np.reshape(arr,(3,6))"
      ],
      "metadata": {
        "id": "Q8_xe9GA4T0z"
      },
      "execution_count": 14,
      "outputs": []
    },
    {
      "cell_type": "code",
      "source": [
        "arr"
      ],
      "metadata": {
        "colab": {
          "base_uri": "https://localhost:8080/"
        },
        "id": "Dz2ivZG84ylj",
        "outputId": "4adf9fd4-0565-4b47-f476-2acf1f323fcf"
      },
      "execution_count": 15,
      "outputs": [
        {
          "output_type": "execute_result",
          "data": {
            "text/plain": [
              "array([[0.52995289, 0.85114581, 0.11698541, 0.14649199, 0.0378543 ,\n",
              "        0.05501215],\n",
              "       [0.65687368, 0.21699668, 0.40747226, 0.98740409, 0.10996246,\n",
              "        0.75265263],\n",
              "       [0.80949294, 0.10987534, 0.00456709, 0.82750517, 0.70634104,\n",
              "        0.90635195]])"
            ]
          },
          "metadata": {},
          "execution_count": 15
        }
      ]
    },
    {
      "cell_type": "code",
      "source": [
        "arr.flatten()"
      ],
      "metadata": {
        "colab": {
          "base_uri": "https://localhost:8080/"
        },
        "id": "b0Z1dNjC41BF",
        "outputId": "414b0761-1e3e-45a5-c891-c5664cd90905"
      },
      "execution_count": 16,
      "outputs": [
        {
          "output_type": "execute_result",
          "data": {
            "text/plain": [
              "array([0.52995289, 0.85114581, 0.11698541, 0.14649199, 0.0378543 ,\n",
              "       0.05501215, 0.65687368, 0.21699668, 0.40747226, 0.98740409,\n",
              "       0.10996246, 0.75265263, 0.80949294, 0.10987534, 0.00456709,\n",
              "       0.82750517, 0.70634104, 0.90635195])"
            ]
          },
          "metadata": {},
          "execution_count": 16
        }
      ]
    },
    {
      "cell_type": "code",
      "source": [],
      "metadata": {
        "id": "eN_w3fNU5Ygs"
      },
      "execution_count": null,
      "outputs": []
    },
    {
      "cell_type": "code",
      "source": [],
      "metadata": {
        "id": "7A4ElO_q41D_"
      },
      "execution_count": null,
      "outputs": []
    }
  ]
}